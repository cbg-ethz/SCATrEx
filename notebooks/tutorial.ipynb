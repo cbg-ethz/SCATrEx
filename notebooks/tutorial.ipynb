{
 "cells": [
  {
   "cell_type": "markdown",
   "metadata": {},
   "source": [
    "# SCITraM\n",
    "SCITraM allows you to augment mutation trees with transcriptomic trajectories of single-cells by simultaneously identifying expression-driven clusters and connecting them to known genomic states. This allows you to identify phenotypes that preceded the appearence of certain genotypes. For example, point mutations which increase genomic instability often give rise to large-scale copy number changes. Such genomic instability may be detected from gene expression data with varying amounts of transcripts of DNA repair genes, or externally caused DNA damage.\n",
    "Because similar phenotypes may not necessarily reflect an underlying cell lineage, SCITraM can also use mitochondrial RNA reads or call SNVs to infer such lineages more accurately."
    "\n",
    "Assuming that at the time of biopsy the higher prevalence of certain subclonal populations reflect an increased fitness in the tumor microenvironment, then the expression patterns that preceded such populations may give a hint about what the selective pressures are, and explain the advantage of the obtained genotypes.\n",
    "\n",
    "Of course, different expression populations may be simply driven by plasticity. Such plasticity is also informative of the selective pressures at play, and variation across different states of expression programs is not a genomically-driven process, which may only be detected with scRNA-seq. The use of CNV states may indicate which of these expression states are subject to more selective pressure."
   ]
  },
  {
   "cell_type": "code",
   "execution_count": null,
   "metadata": {},
   "outputs": [],
   "source": [
    "import scitram\n",
    "seed = 42 # for reproducibility"
   ]
  },
  {
   "cell_type": "code",
   "execution_count": null,
   "metadata": {},
   "outputs": [],
   "source": [
    "# Create SCITraM object\n",
    "sci = scitram.SCITraM(verbose=True)"
   ]
  },
  {
   "cell_type": "markdown",
   "metadata": {},
   "source": [
    "Let's `simulate_data` with 1000 cells, 1000 genes and 3 copy number clones defined on 10 genomic regions."
   ]
  },
  {
   "cell_type": "code",
   "execution_count": null,
   "metadata": {},
   "outputs": [],
   "source": [
    "sim = sci.simulate_data(n_cells=1000, n_genes=1000, n_clones=3, n_regions=10, seed=seed)"
   ]
  },
  {
   "cell_type": "markdown",
   "metadata": {},
   "source": [
    "The simulated event tree is available via `sim['tree']` in the form a `scitram.Tree` object, which can be visualized via `scitram.plotting.plot_tree`. The relative expression of a gene can be used to color the nodes with the `gene` keyword argument, which is useful for identifying gradients of gene expression across the tree -- passing a list will produce multiple trees, one for each gene in the list."
   ]
  },
  {
   "cell_type": "code",
   "execution_count": null,
   "metadata": {},
   "outputs": [],
   "source": [
    "scitram.plotting.plot_tree(sim['tree'], labels=True, counts=True, events=True, observed_only=False)"
   ]
  },
  {
   "cell_type": "markdown",
   "metadata": {},
   "source": [
    "To learn expression trajectories between copy number events from data, a `scitram.SCITraM` object must be created from a copy number aberration tree in the form of a `scitram.Tree` object."
   ]
  },
  {
   "cell_type": "code",
   "execution_count": null,
   "metadata": {},
   "outputs": [],
   "source": [
    "# Create SCITraM object\n",
    "sci = scitram.SCITraM(sim['observed_tree'], verbose=True)"
   ]
  },
  {
   "cell_type": "code",
   "execution_count": null,
   "metadata": {},
   "outputs": [],
   "source": [
    "inferred_tree = sci.learn_tree(sim['d_mat'], n_iters=200, n_samples=20, return_best=True)"
   ]
  },
  {
   "cell_type": "code",
   "execution_count": null,
   "metadata": {},
   "outputs": [],
   "source": [
    "scitram.plotting.plot_tree(inferred_tree, labels=True, counts=True, events=True, observed_only=False,\n",
    "                           gene=['0', '1']) # Simulated data doesn't contain proper gene annotations"
   ]
  },
  {
   "cell_type": "markdown",
   "metadata": {},
   "source": [
    "The expression data can be visualized in multiple forms, which SCITraM provides out of the box in the `plotting` module:\n",
    "* `scitram.plotting.heatmap`\n",
    "* `scitram.plotting.projection`\n",
    "* `scitram.plotting.pseudotime`"
   ]
  },
  {
   "cell_type": "markdown",
   "metadata": {},
   "source": [
    "The heatmap is useful for showing the gene expression matrix. To highlight the large scale copy number effects, it is useful to average this over multiple subsequent genes, which can be achieved easily with `scitram.utils.sliding_window`."
   ]
  },
  {
   "cell_type": "code",
   "execution_count": null,
   "metadata": {},
   "outputs": [],
   "source": [
    "smoothed = scitram.utils.sliding_window(sim['d_mat'], normalize=True)\n",
    "scitram.plotting.heatmap(smoothed, cbar_title='Smoothed expression', annotations=inferred_tree)"
   ]
  },
  {
   "cell_type": "markdown",
   "metadata": {},
   "source": [
    "The UMAP embedding visualization of the cells can be obtained from a distance matrix via `scitram.utils.umap`. To obtain a distance matrix, use `scitram.utils.distance_matrix` method. By default, this method uses the normalized gene expression. Specifying the `tree` keyword argument containing a `scitram.Tree` object uses tree-based distances between the clusters (e.g. number of branches between them, the noise-corrected cluster parameters, or the confidence of assignment to the copy number clones), thus reflecting the underlying structure more accurately.\n",
    "\n",
    "It is possible to overlay the projection with the tree structure by passing the `scitram.Tree` object to the `tree` keyword argument of `scitram.plotting.projection`."
   ]
  },
  {
   "cell_type": "code",
   "execution_count": null,
   "metadata": {},
   "outputs": [],
   "source": [
    "distance_matrix = scitram.utils.distance_matrix(sim['d_mat'], tree=inferred_tree)\n",
    "projection = scitram.utils.umap(distance_matrix)\n",
    "scitram.plotting.projection(projection, tree=inferred_tree)"
   ]
  },
  {
   "cell_type": "markdown",
   "metadata": {},
   "source": [
    "The pseudotime plot shows the cells in a 2D plot where the x axis corresponds to the tree depth and the y axis indicates the 1-D projection of the cluster parameters."
   ]
  },
  {
   "cell_type": "code",
   "execution_count": null,
   "metadata": {},
   "outputs": [],
   "source": []
  },
  {
   "cell_type": "code",
   "execution_count": null,
   "metadata": {},
   "outputs": [],
   "source": []
  }
 ],
 "metadata": {
  "kernelspec": {
   "display_name": "conda py36",
   "language": "python",
   "name": "py36"
  },
  "language_info": {
   "codemirror_mode": {
    "name": "ipython",
    "version": 3
   },
   "file_extension": ".py",
   "mimetype": "text/x-python",
   "name": "python",
   "nbconvert_exporter": "python",
   "pygments_lexer": "ipython3",
   "version": "3.6.10"
  }
 },
 "nbformat": 4,
 "nbformat_minor": 4
}
