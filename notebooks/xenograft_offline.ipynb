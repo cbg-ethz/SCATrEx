{
 "cells": [
  {
   "cell_type": "markdown",
   "metadata": {
    "hide_input": true
   },
   "source": [
    "# Analysing the xenograft data from Campbell et al (2019)\n",
    "In this notebook we apply SCATrEx to the triple negative breast cancer mouse xenograft data set SA501, which is available [here](https://zenodo.org/record/2363826). We use the original copy number calls and assemble them in a given CNA tree that we use in SCATrEx. Running the notebook (except the data download) takes about 10 minutes on a common laptop.\n",
    "\n",
    "Note: we recommend you to go through the [SCATrEx tutorial](https://github.com/cbg-ethz/SCATrEx/blob/master/notebooks/tutorial.ipynb) before running this notebook."
   ]
  },
  {
   "cell_type": "markdown",
   "metadata": {
    "toc": true
   },
   "source": [
    "<h1>Table of Contents<span class=\"tocSkip\"></span></h1>\n",
    "<div class=\"toc\"><ul class=\"toc-item\"><li><span><a href=\"#Data-setup\" data-toc-modified-id=\"Data-setup-1\"><span class=\"toc-item-num\">1&nbsp;&nbsp;</span>Data setup</a></span><ul class=\"toc-item\"><li><span><a href=\"#Download\" data-toc-modified-id=\"Download-1.1\"><span class=\"toc-item-num\">1.1&nbsp;&nbsp;</span>Download</a></span></li><li><span><a href=\"#Read-in-scDNA-data\" data-toc-modified-id=\"Read-in-scDNA-data-1.2\"><span class=\"toc-item-num\">1.2&nbsp;&nbsp;</span>Read in scDNA data</a></span></li><li><span><a href=\"#Read-in-scRNA-data\" data-toc-modified-id=\"Read-in-scRNA-data-1.3\"><span class=\"toc-item-num\">1.3&nbsp;&nbsp;</span>Read in scRNA data</a></span></li></ul></li><li><span><a href=\"#Annotate-the-scRNA-clusters\" data-toc-modified-id=\"Annotate-the-scRNA-clusters-2\"><span class=\"toc-item-num\">2&nbsp;&nbsp;</span>Annotate the scRNA clusters</a></span></li><li><span><a href=\"#Intersect-scDNA-and-scRNA-genes\" data-toc-modified-id=\"Intersect-scDNA-and-scRNA-genes-3\"><span class=\"toc-item-num\">3&nbsp;&nbsp;</span>Intersect scDNA and scRNA genes</a></span></li><li><span><a href=\"#Map-cells-to-clones-using-clonealign\" data-toc-modified-id=\"Map-cells-to-clones-using-clonealign-4\"><span class=\"toc-item-num\">4&nbsp;&nbsp;</span>Map cells to clones using clonealign</a></span><ul class=\"toc-item\"><li><span><a href=\"#Run-clonealign-and-confirm-assignments\" data-toc-modified-id=\"Run-clonealign-and-confirm-assignments-4.1\"><span class=\"toc-item-num\">4.1&nbsp;&nbsp;</span>Run clonealign and confirm assignments</a></span></li><li><span><a href=\"#Annotate-clones\" data-toc-modified-id=\"Annotate-clones-4.2\"><span class=\"toc-item-num\">4.2&nbsp;&nbsp;</span>Annotate clones</a></span></li><li><span><a href=\"#Compare-clusters-with-clones\" data-toc-modified-id=\"Compare-clusters-with-clones-4.3\"><span class=\"toc-item-num\">4.3&nbsp;&nbsp;</span>Compare clusters with clones</a></span></li></ul></li><li><span><a href=\"#Augment-the-CNV-tree-using-SCATrEx\" data-toc-modified-id=\"Augment-the-CNV-tree-using-SCATrEx-5\"><span class=\"toc-item-num\">5&nbsp;&nbsp;</span>Augment the CNV tree using SCATrEx</a></span><ul class=\"toc-item\"><li><span><a href=\"#Run-SCATrEx\" data-toc-modified-id=\"Run-SCATrEx-5.1\"><span class=\"toc-item-num\">5.1&nbsp;&nbsp;</span>Run SCATrEx</a></span></li><li><span><a href=\"#Annotate-nodes\" data-toc-modified-id=\"Annotate-nodes-5.2\"><span class=\"toc-item-num\">5.2&nbsp;&nbsp;</span>Annotate nodes</a></span></li><li><span><a href=\"#Compare-clones-with-clonealign-assignments\" data-toc-modified-id=\"Compare-clones-with-clonealign-assignments-5.3\"><span class=\"toc-item-num\">5.3&nbsp;&nbsp;</span>Compare clones with clonealign assignments</a></span></li><li><span><a href=\"#Compare-nodes-with-clusters\" data-toc-modified-id=\"Compare-nodes-with-clusters-5.4\"><span class=\"toc-item-num\">5.4&nbsp;&nbsp;</span>Compare nodes with clusters</a></span></li></ul></li><li><span><a href=\"#Embedding-using-tree\" data-toc-modified-id=\"Embedding-using-tree-6\"><span class=\"toc-item-num\">6&nbsp;&nbsp;</span>Embedding using tree</a></span></li><li><span><a href=\"#Using-a-better-CNV-tree\" data-toc-modified-id=\"Using-a-better-CNV-tree-7\"><span class=\"toc-item-num\">7&nbsp;&nbsp;</span>Using a better CNV tree</a></span></li></ul></div>"
   ]
  },
  {
   "cell_type": "code",
   "execution_count": null,
   "metadata": {},
   "outputs": [],
   "source": [
    "import scatrex\n",
    "\n",
    "import pandas as pd\n",
    "import numpy as np\n",
    "import matplotlib.pyplot as plt\n",
    "from scipy import io\n",
    "import scanpy as sc\n",
    "import anndata\n",
    "import pyranges\n",
    "import gseapy as gp"
   ]
  },
  {
   "cell_type": "code",
   "execution_count": null,
   "metadata": {},
   "outputs": [],
   "source": [
    "import jax"
   ]
  },
  {
   "cell_type": "code",
   "execution_count": null,
   "metadata": {},
   "outputs": [],
   "source": [
    "from jax.lib import xla_bridge\n",
    "print(xla_bridge.get_backend().platform)"
   ]
  },
  {
   "cell_type": "markdown",
   "metadata": {},
   "source": [
    "## Data setup"
   ]
  },
  {
   "cell_type": "markdown",
   "metadata": {},
   "source": [
    "### Download"
   ]
  },
  {
   "cell_type": "code",
   "execution_count": null,
   "metadata": {},
   "outputs": [],
   "source": [
    "#!wget https://zenodo.org/record/2363826/files/clonealign-processed-data.tar.gz\n",
    "#!tar xvzf clonealign-processed-data.tar.gz"
   ]
  },
  {
   "cell_type": "code",
   "execution_count": null,
   "metadata": {},
   "outputs": [],
   "source": [
    "scdna_path = 'clonealign-processed-data/SA501/cnv'\n",
    "scrna_path = 'clonealign-processed-data/SA501/10X/20171026_SA501X2XB00096/outs/filtered_gene_bc_matrices/hg19'"
   ]
  },
  {
   "cell_type": "markdown",
   "metadata": {},
   "source": [
    "### Read in scDNA data"
   ]
  },
  {
   "cell_type": "code",
   "execution_count": null,
   "metadata": {},
   "outputs": [],
   "source": [
    "# Read scDNA clonal CNV profiles\n",
    "cnvs = pd.read_csv(f'{scdna_path}/SA501X3F.integer_copy_number.csv')\n",
    "clones = pd.read_csv(f'{scdna_path}/SA501X3F_PX0286_PX0287_2-lane.clones.csv')"
   ]
  },
  {
   "cell_type": "code",
   "execution_count": null,
   "metadata": {},
   "outputs": [],
   "source": [
    "gr_cnvs = pyranges.from_dict(cnvs.rename(columns={'start':'Start', 'end': 'End', 'chr': 'Chromosome'}).to_dict())"
   ]
  },
  {
   "cell_type": "code",
   "execution_count": null,
   "metadata": {},
   "outputs": [],
   "source": [
    "# annot = sc.queries.biomart_annotations(\n",
    "#         \"hsapiens\",\n",
    "#         [\"ensembl_gene_id\", \"start_position\", \"end_position\", \"chromosome_name\"],\n",
    "#     ).set_index(\"ensembl_gene_id\")\n",
    "annot = pd.read_csv('~/biomart_annot.csv').set_index(\"ensembl_gene_id\")\n",
    "annot = annot.reset_index()\n",
    "annot = annot.rename(columns={'start_position':'Start', 'end_position': 'End', 'chromosome_name': 'Chromosome'})\n",
    "gr_annotations = pyranges.from_dict(annot.to_dict())"
   ]
  },
  {
   "cell_type": "code",
   "execution_count": null,
   "metadata": {},
   "outputs": [],
   "source": [
    "gr_annotated_cnvs = gr_cnvs.join(gr_annotations).drop(like=\"_b\").cluster().df\\\n",
    "            .drop_duplicates('ensembl_gene_id')\\\n",
    "            .reset_index(drop=True).drop(columns='Cluster')\n",
    "n_genes = gr_annotated_cnvs.shape[0]"
   ]
  },
  {
   "cell_type": "code",
   "execution_count": null,
   "metadata": {},
   "outputs": [],
   "source": [
    "# Create a dictionary of chr:genes for plotting\n",
    "chr_var_names = dict()\n",
    "for chromosome in gr_annotated_cnvs['Chromosome'].unique():\n",
    "    chr_var_names[chromosome] = gr_annotated_cnvs.query(f' Chromosome==\"{chromosome}\" ')['ensembl_gene_id'].values"
   ]
  },
  {
   "cell_type": "code",
   "execution_count": null,
   "metadata": {
    "scrolled": true
   },
   "outputs": [],
   "source": [
    "# Get the CNV clone profiles by taking the mode across their cells\n",
    "unique_clones = clones['clone'].unique()\n",
    "clone_cnvs = dict()\n",
    "for clone in unique_clones:\n",
    "    clone_cnvs[clone] = gr_annotated_cnvs[\n",
    "                            clones.query(f' clone==\"{clone}\" ')['sample_id']\n",
    "                        ].mode(1)[0].values.astype(float)"
   ]
  },
  {
   "cell_type": "code",
   "execution_count": null,
   "metadata": {},
   "outputs": [],
   "source": [
    "# Create clonal tree from CNV clones according to Zahn et al (2017)\n",
    "cnv_tree_dict = {\n",
    "           'root': {'parent': '-1',   'cnv':2*np.ones(n_genes,), 'size': 0,  'label':'root'},\n",
    "           'A':    {'parent': 'root', 'cnv':clone_cnvs['A'],     'size': 60,  'label':'A'},\n",
    "           'B':    {'parent': 'root', 'cnv':clone_cnvs['B'],     'size': 30,  'label':'B'},\n",
    "           'C':    {'parent': 'B',    'cnv':clone_cnvs['C'],     'size': 10,  'label':'C'},\n",
    "           }"
   ]
  },
  {
   "cell_type": "code",
   "execution_count": null,
   "metadata": {},
   "outputs": [],
   "source": [
    "# Parse tree into ObservedTree object\n",
    "observed_tree = scatrex.models.cna.ObservedTree()\n",
    "observed_tree.read_tree_from_dict(cnv_tree_dict, input_params_key='cnv', input_parent_key='parent', root_parent='-1')\n",
    "observed_tree.create_adata(var_names=gr_annotated_cnvs['ensembl_gene_id'].values)\n",
    "\n",
    "observed_tree.plot_heatmap(var_names=chr_var_names)\n",
    "observed_tree.plot_tree()"
   ]
  },
  {
   "cell_type": "markdown",
   "metadata": {},
   "source": [
    "### Read in scRNA data"
   ]
  },
  {
   "cell_type": "code",
   "execution_count": null,
   "metadata": {},
   "outputs": [],
   "source": [
    "# Read scRNA count matrix and annotations\n",
    "mat = io.mmread(f'{scrna_path}/matrix.mtx').toarray()\n",
    "barcodes = pd.read_csv(f'{scrna_path}/barcodes.tsv', sep='\\t', header=None)\n",
    "genes = pd.read_csv(f'{scrna_path}/genes.tsv', sep='\\t', header=None)"
   ]
  },
  {
   "cell_type": "code",
   "execution_count": null,
   "metadata": {},
   "outputs": [],
   "source": [
    "adata = anndata.AnnData(pd.DataFrame(mat.T, index=barcodes[0].values, columns=genes[1].values))\n",
    "adata.var_names_make_unique()\n",
    "adata.var['ensembl_gene_id'] = genes[0].values\n",
    "adata.var['gene_id'] = genes[1].values"
   ]
  },
  {
   "cell_type": "code",
   "execution_count": null,
   "metadata": {},
   "outputs": [],
   "source": [
    "sc.pp.filter_cells(adata, min_genes=200)\n",
    "sc.pp.filter_genes(adata, min_cells=3)"
   ]
  },
  {
   "cell_type": "code",
   "execution_count": null,
   "metadata": {},
   "outputs": [],
   "source": [
    "adata.var['mt'] = adata.var_names.str.startswith('MT-')  # annotate the group of mitochondrial genes as 'mt'\n",
    "sc.pp.calculate_qc_metrics(adata, qc_vars=['mt'], percent_top=None, log1p=False, inplace=True)\n",
    "adata = adata[adata.obs.n_genes_by_counts < 2500, :]\n",
    "adata = adata[adata.obs.pct_counts_mt < 5, :]"
   ]
  },
  {
   "cell_type": "code",
   "execution_count": null,
   "metadata": {},
   "outputs": [],
   "source": [
    "adata.raw = adata"
   ]
  },
  {
   "cell_type": "code",
   "execution_count": null,
   "metadata": {},
   "outputs": [],
   "source": [
    "# Further QC filtering\n",
    "sc.pp.normalize_total(adata, target_sum=1e4)\n",
    "sc.pp.log1p(adata)\n",
    "sc.pp.highly_variable_genes(adata, min_mean=0.0125, max_mean=3, min_disp=0.5)\n",
    "adata = adata[:, adata.var.highly_variable]\n",
    "sc.pp.regress_out(adata, ['total_counts', 'pct_counts_mt'])\n",
    "sc.pp.scale(adata, max_value=10)"
   ]
  },
  {
   "cell_type": "code",
   "execution_count": null,
   "metadata": {},
   "outputs": [],
   "source": [
    "sc.tl.pca(adata, svd_solver='arpack')\n",
    "sc.pp.neighbors(adata, n_neighbors=10, n_pcs=40)\n",
    "sc.tl.leiden(adata)\n",
    "sc.tl.umap(adata)"
   ]
  },
  {
   "cell_type": "code",
   "execution_count": null,
   "metadata": {},
   "outputs": [],
   "source": [
    "sc.pl.umap(adata, color='leiden')"
   ]
  },
  {
   "cell_type": "code",
   "execution_count": null,
   "metadata": {},
   "outputs": [],
   "source": [
    "# Get gene coordinates\n",
    "df_annotations = gr_annotations.df.set_index('ensembl_gene_id')\n",
    "df_exp_annotations = df_annotations.loc[df_annotations.index.intersection(adata.var['ensembl_gene_id'])]\\\n",
    "                        .reset_index().rename(columns={'index':'ensembl_gene_id'})\n",
    "adata.var_names = adata.var['ensembl_gene_id'].values\n",
    "adata = adata[:,df_exp_annotations['ensembl_gene_id']]"
   ]
  },
  {
   "cell_type": "code",
   "execution_count": null,
   "metadata": {},
   "outputs": [],
   "source": [
    "# Create a dictionary of chr:genes for plotting\n",
    "chr_var_names = dict()\n",
    "for chromosome in df_exp_annotations['Chromosome'].unique():\n",
    "    chr_var_names[chromosome] = df_exp_annotations.query(f' Chromosome==\"{chromosome}\" ')\\\n",
    "                                    .sort_values('Start')['ensembl_gene_id'].values"
   ]
  },
  {
   "cell_type": "code",
   "execution_count": null,
   "metadata": {},
   "outputs": [],
   "source": [
    "# Put data in SCATrEx object\n",
    "sca = scatrex.SCATrEx(model=scatrex.models.cna, verbose=True)\n",
    "sca.add_data(adata)\n",
    "sca.adata.var_names = sca.adata.var['ensembl_gene_id']"
   ]
  },
  {
   "cell_type": "code",
   "execution_count": null,
   "metadata": {},
   "outputs": [],
   "source": [
    "# Try to enhance CNV signal from gene expression profiles\n",
    "sca.compute_smoothed_expression(var_names=chr_var_names, window_size=50, clip=3, copy=False)\n",
    "\n",
    "sc.pl.heatmap(sca.adata, chr_var_names, groupby='leiden', cmap=None, show=True, use_raw=False, layer='smoothed')"
   ]
  },
  {
   "cell_type": "markdown",
   "metadata": {},
   "source": [
    "## Annotate the scRNA clusters"
   ]
  },
  {
   "cell_type": "code",
   "execution_count": null,
   "metadata": {},
   "outputs": [],
   "source": [
    "# Performing differential expression tests between the clones will reveal their phenotypic differences\n",
    "sc.tl.rank_genes_groups(adata, 'leiden', method='wilcoxon')\n",
    "sc.pl.rank_genes_groups(adata, n_genes=25, sharey=False)"
   ]
  },
  {
   "cell_type": "code",
   "execution_count": null,
   "metadata": {},
   "outputs": [],
   "source": [
    "# # Using gseapy to annotate clusters according to their top DEGs\n",
    "# groups_genes = pd.DataFrame(adata.uns['rank_genes_groups']['names'])[:25].to_dict(orient='list')\n",
    "# import gseapy as gp\n",
    "# enrichments = []\n",
    "# for group in groups_genes:\n",
    "#     enr = []\n",
    "#     if len(groups_genes[group]) > 0:\n",
    "#         enr = gp.enrichr(gene_list=groups_genes[group],\n",
    "#                      gene_sets=['MSigDB_Hallmark_2020', 'KEGG_2021_Human', 'Reactome_2016'],\n",
    "#                      organism='Human',\n",
    "#                      outdir='test/enrichr',\n",
    "#                      cutoff=0.01\n",
    "#                     ).results\n",
    "#         enr = enr[['Term','Adjusted P-value']].set_index('Term')\n",
    "#         enr = enr.loc[enr['Adjusted P-value'] < 0.01]\n",
    "#         enr = enr.drop('Adjusted P-value', axis=1).index.values\n",
    "#     enrichments.append(enr)\n",
    "# enrichments = dict(zip([group for group in groups_genes], enrichments))\n",
    "# cluster_annotations = pd.DataFrame(dict([ (k,pd.Series(v)) for k,v in enrichments.items() ]))"
   ]
  },
  {
   "cell_type": "code",
   "execution_count": null,
   "metadata": {},
   "outputs": [],
   "source": [
    "# cluster_annotations.head(10)"
   ]
  },
  {
   "cell_type": "markdown",
   "metadata": {},
   "source": [
    "## Intersect scDNA and scRNA genes"
   ]
  },
  {
   "cell_type": "code",
   "execution_count": null,
   "metadata": {},
   "outputs": [],
   "source": [
    "intersection = observed_tree.adata.var.index.intersection(adata.var['ensembl_gene_id'])\n",
    "for node in observed_tree.tree_dict:\n",
    "    observed_tree.tree_dict[node]['params'] = pd.DataFrame(observed_tree.tree_dict[node]['params'], \n",
    "                                                           index=observed_tree.adata.var_names).T[intersection]\\\n",
    "                                                            .values.ravel()\n",
    "observed_tree.adata = observed_tree.adata[:, intersection]"
   ]
  },
  {
   "cell_type": "code",
   "execution_count": null,
   "metadata": {},
   "outputs": [],
   "source": [
    "raw_adata = adata.raw.to_adata()\n",
    "raw_adata.var_names = raw_adata.var['ensembl_gene_id']\n",
    "raw_adata = raw_adata[:,intersection]\n",
    "raw_adata.var_names = raw_adata.var['gene_id']\n",
    "\n",
    "observed_tree.adata.var['gene_id'] = raw_adata.var['gene_id']"
   ]
  },
  {
   "cell_type": "code",
   "execution_count": null,
   "metadata": {},
   "outputs": [],
   "source": [
    "# Get gene coordinates\n",
    "df_annotations = gr_annotations.df.set_index('ensembl_gene_id')\n",
    "df_exp_annotations = df_annotations.loc[df_annotations.index.intersection(raw_adata.var['ensembl_gene_id'])]\\\n",
    "                        .reset_index().rename(columns={'index':'ensembl_gene_id'})\n",
    "\n",
    "# Create a dictionary of chr:genes for plotting\n",
    "chr_var_names = dict()\n",
    "for chromosome in df_exp_annotations['Chromosome'].unique():\n",
    "    chr_var_names[chromosome] = df_exp_annotations.query(f' Chromosome==\"{chromosome}\" ')\\\n",
    "                                    .sort_values('Start')['ensembl_gene_id'].values"
   ]
  },
  {
   "cell_type": "code",
   "execution_count": null,
   "metadata": {},
   "outputs": [],
   "source": [
    "# We see that even after filtering, we still retain the regions that distinguish between the 3 clones\n",
    "observed_tree.plot_heatmap(var_names=chr_var_names)"
   ]
  },
  {
   "cell_type": "markdown",
   "metadata": {},
   "source": [
    "## Map cells to clones using clonealign"
   ]
  },
  {
   "cell_type": "markdown",
   "metadata": {},
   "source": [
    "### Run clonealign and confirm assignments"
   ]
  },
  {
   "cell_type": "code",
   "execution_count": null,
   "metadata": {},
   "outputs": [],
   "source": [
    "# Create a new object for the inference\n",
    "args = dict(num_global_noise_factors=4)\n",
    "ca = scatrex.SCATrEx(model=scatrex.models.cna, verbose=True, model_args=args)\n",
    "ca.add_data(raw_adata)\n",
    "ca.set_observed_tree(observed_tree)\n",
    "ca.normalize_data()\n",
    "ca.project_data()\n",
    "ca.adata.var_names = ca.adata.var['gene_id']"
   ]
  },
  {
   "cell_type": "code",
   "execution_count": null,
   "metadata": {
    "scrolled": true
   },
   "outputs": [],
   "source": [
    "# Run clonealign\n",
    "elbos = ca.learn_clonemap(n_iters=1000, filter_genes=True, step_size=0.01)"
   ]
  },
  {
   "cell_type": "code",
   "execution_count": null,
   "metadata": {},
   "outputs": [],
   "source": [
    "plt.plot(elbos)"
   ]
  },
  {
   "cell_type": "code",
   "execution_count": null,
   "metadata": {},
   "outputs": [],
   "source": [
    "ca.plot_tree(counts=True)"
   ]
  },
  {
   "cell_type": "code",
   "execution_count": null,
   "metadata": {},
   "outputs": [],
   "source": [
    "ca.adata.var_names = ca.adata.var['gene_id']\n",
    "gene = 'XIST'\n",
    "fig, ax_list = plt.subplots(nrows=1, ncols=2, sharey=True, figsize=(12,6))\n",
    "ca.plot_tree(gene=gene, genemode='observed', title='Copy number state', cbtitle='', ax=ax_list[0])\n",
    "ca.plot_tree(gene=gene, genemode='avg', title='Average expression', cbtitle='', ax=ax_list[1])\n",
    "plt.suptitle(gene, fontsize=16)\n",
    "plt.show()"
   ]
  },
  {
   "cell_type": "code",
   "execution_count": null,
   "metadata": {},
   "outputs": [],
   "source": [
    "ca.plot_unobserved_parameters(estimated=True)"
   ]
  },
  {
   "cell_type": "code",
   "execution_count": null,
   "metadata": {},
   "outputs": [],
   "source": [
    "# cnv_levels = np.unique(observed_tree.adata.X)\n",
    "# exp_levels = []\n",
    "# for cnv in cnv_levels:\n",
    "#     gene_avg = []\n",
    "#     for gene in range(ca.adata.X.shape[1]):\n",
    "#         cells = np.where(ca.adata.layers['clonemap_cnvs'][:,gene]==cnv)[0]\n",
    "#         if len(cells) > 0:\n",
    "#             gene_avg.append(np.mean(ca.adata.X[cells,gene]))\n",
    "#     exp_levels.append(np.array(gene_avg))\n",
    "    \n",
    "# max_level = 4\n",
    "# try:\n",
    "#     max_level_pos = np.where(cnv_levels==max_level)[0][0]\n",
    "# except IndexError:\n",
    "#     print(f\"{max_level} not present in {cnv_levels}.\")\n",
    "#     max_level_pos = np.argmax(cnv_levels)\n",
    "# exp_levels[max_level_pos] = np.concatenate(exp_levels[max_level_pos:])\n",
    "# exp_levels = exp_levels[:max_level_pos+1]\n",
    "# cnv_levels = list(cnv_levels[:max_level_pos+1].astype(int))\n",
    "# cnv_levels_labels = list(cnv_levels)\n",
    "# cnv_levels_labels[max_level_pos] = f'{cnv_levels[max_level_pos]}+'"
   ]
  },
  {
   "cell_type": "code",
   "execution_count": null,
   "metadata": {},
   "outputs": [],
   "source": [
    "# The copy number state-specific expression distribution reflects good clonal assignments \n",
    "cnv_exp = ca.get_cnv_exp(max_level=4, method='clonemap')\n",
    "\n",
    "cnv_levels = list(cnv_exp.keys())\n",
    "cnv_levels_labels = [cnv_exp[l]['label'] for l in cnv_levels]\n",
    "exp_levels = [cnv_exp[l]['exp'] for l in cnv_levels]\n",
    "\n",
    "plt.boxplot(x=exp_levels)\n",
    "plt.yscale('log')\n",
    "plt.ylabel('Mean log expression')\n",
    "plt.xlabel('Copy number state')\n",
    "plt.xticks(cnv_levels, labels=cnv_levels_labels)\n",
    "plt.show()"
   ]
  },
  {
   "cell_type": "code",
   "execution_count": null,
   "metadata": {},
   "outputs": [],
   "source": [
    "# Compare the real copy number signal with the smoothed gene expression\n",
    "ca.adata.var_names = ca.adata.var['ensembl_gene_id']\n",
    "\n",
    "ca.compute_smoothed_expression(var_names=chr_var_names, window_size=100, clip=3, copy=False)\n",
    "\n",
    "\n",
    "sc.pl.heatmap(ca.adata, chr_var_names, groupby='obs_node', cmap=scatrex.plotting.constants.CNV_CMAP, \n",
    "                  show=True, use_raw=False, layer='smoothed')\n",
    "\n",
    "ca.adata.var_names = ca.adata.var['gene_id']"
   ]
  },
  {
   "cell_type": "code",
   "execution_count": null,
   "metadata": {},
   "outputs": [],
   "source": [
    "ca.adata.uns['obs_node_colors'] = [observed_tree.tree_dict[node]['color'] for node in np.unique(ca.adata.obs['obs_node'])]"
   ]
  },
  {
   "cell_type": "code",
   "execution_count": null,
   "metadata": {},
   "outputs": [],
   "source": [
    "# The underexpression of inactive-chrX-specific-transcript XIST in clone A confirms that the active copy was retained\n",
    "# sca.adata.uns['obs_node_colors'] = [observed_tree.tree_dict[node]['color'] for node in np.unique(sca.adata.obs['obs_node'])]\n",
    "sc.pl.violin(ca.adata, ['XIST'], groupby='obs_node', raw=False)"
   ]
  },
  {
   "cell_type": "markdown",
   "metadata": {},
   "source": [
    "### Annotate clones"
   ]
  },
  {
   "cell_type": "code",
   "execution_count": null,
   "metadata": {},
   "outputs": [],
   "source": [
    "# Performing differential expression tests between the clones will reveal their phenotypic differences\n",
    "sc.tl.rank_genes_groups(ca.adata, 'obs_node', method='wilcoxon')\n",
    "sc.pl.rank_genes_groups(ca.adata, n_genes=25, sharey=False)"
   ]
  },
  {
   "cell_type": "code",
   "execution_count": null,
   "metadata": {},
   "outputs": [],
   "source": [
    "# # Using gseapy to annotate clusters according to their top DEGs\n",
    "# groups_genes = pd.DataFrame(ca.adata.uns['rank_genes_groups']['names'])[:25].to_dict(orient='list')\n",
    "# enrichments = []\n",
    "# for group in groups_genes:\n",
    "#     enr = []\n",
    "#     if len(groups_genes[group]) > 0:\n",
    "#         enr = gp.enrichr(gene_list=groups_genes[group],\n",
    "#                      gene_sets=['MSigDB_Hallmark_2020', 'KEGG_2021_Human', 'Reactome_2016'],\n",
    "#                      organism='Human',\n",
    "#                      outdir='test/enrichr',\n",
    "#                      cutoff=0.01\n",
    "#                     ).results\n",
    "#         enr = enr[['Term','Adjusted P-value']].set_index('Term')\n",
    "#         enr = enr.loc[enr['Adjusted P-value'] < 0.01]\n",
    "#         enr = enr.drop('Adjusted P-value', axis=1).index.values\n",
    "#     enrichments.append(enr)\n",
    "# enrichments = dict(zip([group for group in groups_genes], enrichments))\n",
    "# clone_annotations = pd.DataFrame(dict([ (k,pd.Series(v)) for k,v in enrichments.items() ]))"
   ]
  },
  {
   "cell_type": "code",
   "execution_count": null,
   "metadata": {},
   "outputs": [],
   "source": [
    "# clone_annotations.head(10)"
   ]
  },
  {
   "cell_type": "code",
   "execution_count": null,
   "metadata": {},
   "outputs": [],
   "source": [
    "# Comparing to A reveals the underexpression of MHC class II proteins in that clone, as reported by clonealign\n",
    "sc.tl.rank_genes_groups(ca.adata, 'obs_node', groups=['B', 'C'], reference='A', method='wilcoxon')\n",
    "sc.pl.rank_genes_groups(ca.adata, groups=['B', 'C'], n_genes=25)"
   ]
  },
  {
   "cell_type": "code",
   "execution_count": null,
   "metadata": {},
   "outputs": [],
   "source": [
    "# # Using gseapy to annotate clusters according to their top DEGs\n",
    "# groups_genes = pd.DataFrame(ca.adata.uns['rank_genes_groups']['names'])[:25].to_dict(orient='list')\n",
    "# enrichments = []\n",
    "# for group in groups_genes:\n",
    "#     enr = []\n",
    "#     if len(groups_genes[group]) > 0:\n",
    "#         enr = gp.enrichr(gene_list=groups_genes[group],\n",
    "#                      gene_sets=['MSigDB_Hallmark_2020', 'KEGG_2021_Human', 'Reactome_2016'],\n",
    "#                      organism='Human',\n",
    "#                      outdir='test/enrichr',\n",
    "#                      cutoff=0.01\n",
    "#                     ).results\n",
    "#         enr = enr[['Term','Adjusted P-value']].set_index('Term')\n",
    "#         enr = enr.loc[enr['Adjusted P-value'] < 0.01]\n",
    "#         enr = enr.drop('Adjusted P-value', axis=1).index.values\n",
    "#     enrichments.append(enr)\n",
    "# enrichments = dict(zip([group for group in groups_genes], enrichments))\n",
    "# clone_annotations = pd.DataFrame(dict([ (k,pd.Series(v)) for k,v in enrichments.items() ]))"
   ]
  },
  {
   "cell_type": "code",
   "execution_count": null,
   "metadata": {},
   "outputs": [],
   "source": [
    "# clone_annotations.head(10)"
   ]
  },
  {
   "cell_type": "markdown",
   "metadata": {},
   "source": [
    "### Compare clusters with clones"
   ]
  },
  {
   "cell_type": "code",
   "execution_count": null,
   "metadata": {},
   "outputs": [],
   "source": [
    "# Plot UMAP colored by clone assignments\n",
    "sc.pl.umap(ca.adata, color=['leiden', 'obs_node'], s=200, alpha=0.7)"
   ]
  },
  {
   "cell_type": "code",
   "execution_count": null,
   "metadata": {},
   "outputs": [],
   "source": [
    "# Measure accordance of clonealign and unsupervised clustering with a confusion matrix\n",
    "pd.crosstab(ca.adata.obs['leiden'], ca.adata.obs['obs_node'])"
   ]
  },
  {
   "cell_type": "code",
   "execution_count": null,
   "metadata": {},
   "outputs": [],
   "source": [
    "# The low adjusted rand score quantitatively reflects this inconsistency between the two summaries\n",
    "from sklearn.metrics import adjusted_rand_score\n",
    "adjusted_rand_score(ca.adata.obs['leiden'], ca.adata.obs['obs_node'])"
   ]
  },
  {
   "cell_type": "markdown",
   "metadata": {},
   "source": [
    "## Augment the CNV tree using SCATrEx\n",
    "The clonealign and the unsupervised clustering results are quite different: the confusion matrix indicates that each clone has cells in multiple different clusters, and vice-versa. Differential expression followed by pathway analyses on both groupings are not clearly consistent either. To reconcile the two approaches, we will use SCATrEx, which will jointly assign cells to clones and find new clusters constrained by the clonal tree. Limiting clusters to belong to clones is the most biologically meaningful approach, as the genotypes define a cell's identity -- and SCATrEx exploits that."
   ]
  },
  {
   "cell_type": "markdown",
   "metadata": {},
   "source": [
    "### Run SCATrEx"
   ]
  },
  {
   "cell_type": "code",
   "execution_count": null,
   "metadata": {},
   "outputs": [],
   "source": [
    "adata.var_names = adata.var['ensembl_gene_id']"
   ]
  },
  {
   "cell_type": "code",
   "execution_count": null,
   "metadata": {},
   "outputs": [],
   "source": [
    "raw_adata.var_names = raw_adata.var['ensembl_gene_id']"
   ]
  },
  {
   "cell_type": "code",
   "execution_count": null,
   "metadata": {},
   "outputs": [],
   "source": [
    "adata_copy = adata.copy()"
   ]
  },
  {
   "cell_type": "code",
   "execution_count": null,
   "metadata": {},
   "outputs": [],
   "source": [
    "sc.pp.highly_variable_genes(adata_copy, min_mean=0.0125, max_mean=3, min_disp=0.5, n_top_genes=2000)"
   ]
  },
  {
   "cell_type": "code",
   "execution_count": null,
   "metadata": {},
   "outputs": [],
   "source": [
    "# adata_copy = adata_copy[:, adata_copy.var.highly_variable]"
   ]
  },
  {
   "cell_type": "code",
   "execution_count": null,
   "metadata": {},
   "outputs": [],
   "source": [
    "from copy import deepcopy\n",
    "new_observed = deepcopy(observed_tree)\n",
    "intersection = new_observed.adata.var.index.intersection(adata_copy.var['ensembl_gene_id'])\n",
    "for node in new_observed.tree_dict:\n",
    "    new_observed.tree_dict[node]['params'] = pd.DataFrame(new_observed.tree_dict[node]['params'], \n",
    "                                                           index=new_observed.adata.var_names).T[intersection]\\\n",
    "                                                            .values.ravel()\n",
    "new_observed.adata = new_observed.adata[:, intersection]\n",
    "\n",
    "new_raw_adata = raw_adata.copy()\n",
    "new_raw_adata = new_raw_adata[:,intersection]"
   ]
  },
  {
   "cell_type": "code",
   "execution_count": null,
   "metadata": {},
   "outputs": [],
   "source": [
    "new_raw_adata.var_names = new_raw_adata.var['gene_id']"
   ]
  },
  {
   "cell_type": "code",
   "execution_count": null,
   "metadata": {},
   "outputs": [],
   "source": [
    "new_observed.adata.var_names = new_raw_adata.var['gene_id']"
   ]
  },
  {
   "cell_type": "code",
   "execution_count": null,
   "metadata": {},
   "outputs": [],
   "source": [
    "theta = 50\n",
    "args = dict(global_noise_factors_precisions_shape=2, num_global_noise_factors=4, \n",
    "            unobserved_factors_kernel_concentration=1/theta, unobserved_factors_root_kernel=1/theta)\n",
    "sca = scatrex.SCATrEx(model=scatrex.models.cna, verbose=True, model_args=args)\n",
    "sca.add_data(new_raw_adata)\n",
    "sca.set_observed_tree(new_observed)\n",
    "sca.normalize_data()\n",
    "sca.project_data()"
   ]
  },
  {
   "cell_type": "code",
   "execution_count": null,
   "metadata": {},
   "outputs": [],
   "source": [
    "move_weights = {'add':3,\n",
    "                'merge':6,\n",
    "                'prune_reattach':1,\n",
    "                'pivot_reattach':1,\n",
    "                'swap':1,\n",
    "                'add_reattach_pivot':.5,\n",
    "                'subtree_reattach':1,\n",
    "                'push_subtree':.5,\n",
    "                'extract_pivot':.5,\n",
    "                'perturb_node':.5,\n",
    "                'clean_node':.5,\n",
    "                'subtree_pivot_reattach':.5,\n",
    "                'reset_globals':.0,\n",
    "                'full':.0,\n",
    "                'globals':1}\n",
    "\n",
    "search_kwargs = {'n_iters': 500, 'n_iters_elbo': 500,                \n",
    "                'move_weights': move_weights,\n",
    "                'local': True,\n",
    "                'factor_delay': 0,\n",
    "                'step_size': 0.01,\n",
    "                'posterior_delay': 0,\n",
    "                'mb_size': 100,\n",
    "                'num_samples': 1,\n",
    "                'window': 50,\n",
    "                'max_nodes': 5,\n",
    "                'add_rule_thres': .4,\n",
    "                'joint_init': True}\n",
    "sca.learn_tree(reset=True, search_kwargs=search_kwargs)"
   ]
  },
  {
   "cell_type": "code",
   "execution_count": null,
   "metadata": {},
   "outputs": [],
   "source": [
    "sca.plot_tree(counts=True)"
   ]
  },
  {
   "cell_type": "code",
   "execution_count": null,
   "metadata": {},
   "outputs": [],
   "source": [
    "sca.adata.var_names = sca.adata.var['gene_id']\n",
    "gene = 'XIST'\n",
    "fig, ax_list = plt.subplots(nrows=1, ncols=3, sharey=True, figsize=(12,4))\n",
    "sca.plot_tree(gene=gene, genemode='observed', title='Copy number state', cbtitle='', ax=ax_list[0])\n",
    "sca.plot_tree(gene=gene, genemode='unobserved', title='Extra factors', cbtitle='', ax=ax_list[1])\n",
    "sca.plot_tree(gene=gene, genemode='avg', title='Average expression', cbtitle='', ax=ax_list[2])\n",
    "plt.suptitle(gene, fontsize=16)\n",
    "plt.show()"
   ]
  },
  {
   "cell_type": "code",
   "execution_count": null,
   "metadata": {},
   "outputs": [],
   "source": [
    "sca.plot_unobserved_parameters(estimated=True, gene='AKAP12', title='AKAP12', name='unobserved_factors', step=20)"
   ]
  },
  {
   "cell_type": "code",
   "execution_count": null,
   "metadata": {},
   "outputs": [],
   "source": [
    "# cnv_levels = np.unique(new_observed.adata.X)\n",
    "# exp_levels = []\n",
    "# for cnv in cnv_levels:\n",
    "#     gene_avg = []\n",
    "#     for gene in range(sca.adata.X.shape[1]):\n",
    "#         cells = np.where(sca.adata.layers['cnvs'][:,gene]==cnv)[0]\n",
    "#         if len(cells) > 0:\n",
    "#             gene_avg.append(np.mean(sca.adata.X[cells,gene]))\n",
    "#     exp_levels.append(np.array(gene_avg))\n",
    "    \n",
    "# max_level = 4\n",
    "# try:\n",
    "#     max_level_pos = np.where(cnv_levels==max_level)[0][0]\n",
    "# except IndexError:\n",
    "#     print(f\"{max_level} not present in {cnv_levels}.\")\n",
    "#     max_level_pos = np.argmax(cnv_levels)\n",
    "# exp_levels[max_level_pos] = np.concatenate(exp_levels[max_level_pos:])\n",
    "# exp_levels = exp_levels[:max_level_pos+1]\n",
    "# cnv_levels = list(cnv_levels[:max_level_pos+1].astype(int))\n",
    "# cnv_levels_labels = list(cnv_levels)\n",
    "# cnv_levels_labels[max_level_pos] = f'{cnv_levels[max_level_pos]}+'"
   ]
  },
  {
   "cell_type": "code",
   "execution_count": null,
   "metadata": {},
   "outputs": [],
   "source": [
    "# The copy number state-specific expression distribution reflects good clonal assignments \n",
    "cnv_exp = sca.get_cnv_exp(max_level=4, method='scatrex')\n",
    "\n",
    "cnv_levels = list(cnv_exp.keys())\n",
    "cnv_levels_labels = [cnv_exp[l]['label'] for l in cnv_levels]\n",
    "exp_levels = [cnv_exp[l]['exp'] for l in cnv_levels]\n",
    "\n",
    "plt.boxplot(x=exp_levels)\n",
    "plt.yscale('log')\n",
    "plt.ylabel('Mean log expression')\n",
    "plt.xlabel('Copy number state')\n",
    "plt.xticks(cnv_levels, labels=cnv_levels_labels)\n",
    "plt.show()"
   ]
  },
  {
   "cell_type": "code",
   "execution_count": null,
   "metadata": {},
   "outputs": [],
   "source": [
    "# The underexpression of inactive-chrX-specific-transcript XIST in clone A confirms that the active copy was retained\n",
    "# sca.adata.uns['obs_node_colors'] = [observed_tree.tree_dict[node]['color'] for node in np.unique(sca.adata.obs['obs_node'])]\n",
    "sc.pl.violin(sca.adata, ['XIST'], groupby='node', raw=False)"
   ]
  },
  {
   "cell_type": "code",
   "execution_count": null,
   "metadata": {},
   "outputs": [],
   "source": [
    "sc.pl.umap(sca.adata, color=['leiden', 'obs_node', 'node'], s=200, alpha=0.7)"
   ]
  },
  {
   "cell_type": "code",
   "execution_count": null,
   "metadata": {},
   "outputs": [],
   "source": [
    "# The unobserved factors clearly indicate that the MHC Class II proteins are under-expressed in clone A \n",
    "# even though the copy number of those genes are the same across all clones"
   ]
  },
  {
   "cell_type": "code",
   "execution_count": null,
   "metadata": {},
   "outputs": [],
   "source": [
    "sca.adata.var_names = sca.adata.var['gene_id']\n",
    "\n",
    "for gene in ['HLA-A', 'HLA-B', 'HLA-C', 'B2M']:\n",
    "    if gene in sca.adata.var_names:\n",
    "        fig, ax_list = plt.subplots(nrows=1, ncols=3, sharey=True, figsize=(12,4))\n",
    "        sca.plot_tree(gene=gene, genemode='observed', title='Copy number state', cbtitle='', ax=ax_list[0])\n",
    "        sca.plot_tree(gene=gene, genemode='unobserved', title='Extra factors', cbtitle='', ax=ax_list[1])\n",
    "        sca.plot_tree(gene=gene, genemode='avg', title='Average expression', cbtitle='', ax=ax_list[2])\n",
    "        plt.suptitle(gene, fontsize=16)\n",
    "        plt.show()"
   ]
  },
  {
   "cell_type": "markdown",
   "metadata": {},
   "source": [
    "### Annotate nodes"
   ]
  },
  {
   "cell_type": "code",
   "execution_count": null,
   "metadata": {},
   "outputs": [],
   "source": [
    "# Performing differential expression tests between the clones will reveal their phenotypic differences\n",
    "sc.tl.rank_genes_groups(sca.adata, 'node', method='wilcoxon')\n",
    "sc.pl.rank_genes_groups(sca.adata, n_genes=25, sharey=False)"
   ]
  },
  {
   "cell_type": "code",
   "execution_count": null,
   "metadata": {},
   "outputs": [],
   "source": [
    "# Using gseapy to annotate clusters according to their top DEGs\n",
    "groups_genes = pd.DataFrame(sca.adata.uns['rank_genes_groups']['names'])[:25].to_dict(orient='list')\n",
    "enrichments = []\n",
    "for group in groups_genes:\n",
    "    enr = []\n",
    "    if len(groups_genes[group]) > 0:\n",
    "        enr = gp.enrichr(gene_list=groups_genes[group],\n",
    "                     gene_sets=['MSigDB_Hallmark_2020', 'KEGG_2021_Human', 'Reactome_2016'],\n",
    "                     organism='Human',\n",
    "                     outdir='test/enrichr',\n",
    "                     cutoff=0.01\n",
    "                    ).results\n",
    "        enr = enr[['Term','Adjusted P-value']].set_index('Term')\n",
    "        enr = enr.loc[enr['Adjusted P-value'] < 0.01]\n",
    "        enr = enr.drop('Adjusted P-value', axis=1).index.values\n",
    "    enrichments.append(enr)\n",
    "enrichments = dict(zip([group for group in groups_genes], enrichments))\n",
    "node_annotations = pd.DataFrame(dict([ (k,pd.Series(v)) for k,v in enrichments.items() ]))"
   ]
  },
  {
   "cell_type": "code",
   "execution_count": null,
   "metadata": {},
   "outputs": [],
   "source": [
    "node_annotations.head(10)"
   ]
  },
  {
   "cell_type": "markdown",
   "metadata": {},
   "source": [
    "### Compare clones with clonealign assignments"
   ]
  },
  {
   "cell_type": "code",
   "execution_count": null,
   "metadata": {},
   "outputs": [],
   "source": [
    "# Measure accordance of SCATrEx and clonealign with a confusion matrix\n",
    "pd.crosstab(ca.adata.obs['obs_node'], sca.adata.obs['obs_node'])"
   ]
  },
  {
   "cell_type": "markdown",
   "metadata": {},
   "source": [
    "### Compare nodes with clusters"
   ]
  },
  {
   "cell_type": "code",
   "execution_count": null,
   "metadata": {},
   "outputs": [],
   "source": [
    "# Measure accordance of SCATrEx and unsupervised clustering with a confusion matrix\n",
    "pd.crosstab(sca.adata.obs['leiden'], sca.adata.obs['node'])"
   ]
  },
  {
   "cell_type": "code",
   "execution_count": null,
   "metadata": {},
   "outputs": [],
   "source": [
    "# The low adjusted rand score quantitatively reflects this inconsistency between the two summaries\n",
    "from sklearn.metrics import adjusted_rand_score\n",
    "adjusted_rand_score(sca.adata.obs['leiden'], sca.adata.obs['obs_node'])"
   ]
  },
  {
   "cell_type": "markdown",
   "metadata": {},
   "source": [
    "## Embedding using tree\n",
    "We compute a kNN graph of single cells using a combined distance in gene expression space and tree space. This graph is then used as input to the UMAP embedding."
   ]
  },
  {
   "cell_type": "code",
   "execution_count": null,
   "metadata": {},
   "outputs": [],
   "source": []
  },
  {
   "cell_type": "markdown",
   "metadata": {},
   "source": [
    "## Using a better CNV tree\n",
    "The CNV tree we used is limited as it doesn't make the most likely CNV profile of the most recent common ancestor of A and B explicit. To obtain such a tree, we resort to SCICoNE (Kuipers, Tuncel and Ferreira et al, 2021), which simultaneously learns clonal CNV profiles and their history from single-cell WGS data. This tree is available in the SCATrEx package: "
   ]
  },
  {
   "cell_type": "code",
   "execution_count": null,
   "metadata": {},
   "outputs": [],
   "source": []
  }
 ],
 "metadata": {
  "kernelspec": {
   "display_name": "Python 3",
   "language": "python",
   "name": "python3"
  },
  "language_info": {
   "codemirror_mode": {
    "name": "ipython",
    "version": 3
   },
   "file_extension": ".py",
   "mimetype": "text/x-python",
   "name": "python",
   "nbconvert_exporter": "python",
   "pygments_lexer": "ipython3",
   "version": "3.8.5"
  },
  "toc": {
   "base_numbering": 1,
   "nav_menu": {},
   "number_sections": true,
   "sideBar": true,
   "skip_h1_title": true,
   "title_cell": "Table of Contents",
   "title_sidebar": "Contents",
   "toc_cell": true,
   "toc_position": {},
   "toc_section_display": true,
   "toc_window_display": true
  }
 },
 "nbformat": 4,
 "nbformat_minor": 4
}
